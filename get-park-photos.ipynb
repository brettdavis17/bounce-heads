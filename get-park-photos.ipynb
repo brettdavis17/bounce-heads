{
 "cells": [
  {
   "cell_type": "markdown",
   "metadata": {},
   "source": [
    "# Get Photos for a Specific Park\n",
    "\n",
    "This notebook collects photos for a single park to test and perfect the photo collection process before scaling to all parks."
   ]
  },
  {
   "cell_type": "code",
   "execution_count": 17,
   "metadata": {},
   "outputs": [
    {
     "name": "stdout",
     "output_type": "stream",
     "text": [
      "✅ API Key loaded: AIzaSyCyjZ...\n"
     ]
    }
   ],
   "source": [
    "import pandas as pd\n",
    "import requests\n",
    "import json\n",
    "import os\n",
    "from dotenv import load_dotenv\n",
    "from typing import List, Dict, Any\n",
    "\n",
    "# Load environment variables\n",
    "load_dotenv('.env.local')\n",
    "API_KEY = os.getenv('GOOGLE_PLACES_API_KEY')\n",
    "\n",
    "if not API_KEY:\n",
    "    raise ValueError(\"Please set GOOGLE_PLACES_API_KEY in .env.local\")\n",
    "\n",
    "print(f\"✅ API Key loaded: {API_KEY[:10]}...\")"
   ]
  },
  {
   "cell_type": "code",
   "execution_count": 18,
   "metadata": {},
   "outputs": [
    {
     "name": "stdout",
     "output_type": "stream",
     "text": [
      "🎯 Target park: Urban Air Tyler\n",
      "📍 Place ID: ChIJHSII4d3NSYYRl6568PJp5BM\n"
     ]
    }
   ],
   "source": [
    "# CONFIGURE: Set the park you want to get photos for\n",
    "TARGET_PARK_ID = \"ChIJHSII4d3NSYYRl6568PJp5BM\"  # Urban Air Tyler\n",
    "TARGET_PARK_NAME = \"Urban Air Tyler\"\n",
    "\n",
    "# Or search by name instead\n",
    "# TARGET_PARK_NAME = \"Urban Air Trampoline and Adventure Park Tyler\"\n",
    "# TARGET_PARK_ID = None  # Will search for it\n",
    "\n",
    "print(f\"🎯 Target park: {TARGET_PARK_NAME}\")\n",
    "print(f\"📍 Place ID: {TARGET_PARK_ID if TARGET_PARK_ID else 'Will search'}\")"
   ]
  },
  {
   "cell_type": "code",
   "execution_count": null,
   "metadata": {},
   "outputs": [],
   "source": "def get_place_details_with_photos(place_id: str) -> Dict:\n    \"\"\"Get detailed place information including photos\"\"\"\n    url = f'https://places.googleapis.com/v1/places/{place_id}'\n    \n    headers = {\n        'X-Goog-Api-Key': API_KEY,\n        'X-Goog-FieldMask': 'id,displayName,formattedAddress,location,nationalPhoneNumber,websiteUri,regularOpeningHours,rating,userRatingCount,photos,types'\n    }\n    \n    try:\n        response = requests.get(url, headers=headers)\n        response.raise_for_status()\n        return response.json()\n    except Exception as e:\n        print(f\"❌ Error getting details for {place_id}: {e}\")\n        return {}\n\ndef check_api_permissions():\n    \"\"\"Check what APIs are enabled for this key\"\"\"\n    print(\"🔍 Checking API key permissions...\")\n    \n    # Test basic Places API access\n    test_url = f'https://places.googleapis.com/v1/places/{TARGET_PARK_ID}'\n    headers = {'X-Goog-Api-Key': API_KEY, 'X-Goog-FieldMask': 'id,displayName'}\n    \n    try:\n        response = requests.get(test_url, headers=headers)\n        print(f\"✅ Places API v1 access: {response.status_code}\")\n        if response.status_code != 200:\n            print(f\"❌ Error: {response.text}\")\n    except Exception as e:\n        print(f\"❌ Places API error: {e}\")\n    \n    # Test legacy Places API\n    legacy_url = f'https://maps.googleapis.com/maps/api/place/details/json'\n    params = {'place_id': TARGET_PARK_ID, 'key': API_KEY, 'fields': 'name,photos'}\n    \n    try:\n        response = requests.get(legacy_url, params=params)\n        print(f\"✅ Legacy Places API access: {response.status_code}\")\n        if response.status_code == 200:\n            data = response.json()\n            if data.get('status') == 'OK':\n                photos = data.get('result', {}).get('photos', [])\n                print(f\"📸 Legacy API found {len(photos)} photos\")\n                if photos:\n                    print(f\"📷 First photo reference: {photos[0].get('photo_reference', 'None')[:50]}...\")\n            else:\n                print(f\"❌ Legacy API status: {data.get('status')} - {data.get('error_message', '')}\")\n    except Exception as e:\n        print(f\"❌ Legacy Places API error: {e}\")\n\ndef generate_photo_urls_diagnostic(photos: List[Dict], max_photos: int = 3) -> List[str]:\n    \"\"\"Generate photo URLs with detailed diagnostics\"\"\"\n    if not photos:\n        print(\"❌ No photos provided\")\n        return []\n    \n    print(f\"\\\\n🔍 Analyzing {len(photos)} photos...\")\n    photo_urls = []\n    \n    for i, photo in enumerate(photos[:max_photos]):\n        print(f\"\\\\n📸 Photo {i+1}:\")\n        print(f\"  Raw photo data: {json.dumps(photo, indent=2)}\")\n        \n        photo_name = photo.get('name', '')\n        if not photo_name:\n            print(\"  ❌ No 'name' field found\")\n            continue\n            \n        print(f\"  Photo name: {photo_name}\")\n        \n        # Try the new v1 format\n        photo_url_v1 = f\"https://places.googleapis.com/v1/{photo_name}/media?maxWidthPx=400&key={API_KEY}\"\n        print(f\"  Testing v1 URL: {photo_url_v1}\")\n        \n        try:\n            test_response = requests.head(photo_url_v1, timeout=10)\n            print(f\"  ✅ v1 Status: {test_response.status_code}\")\n            if test_response.status_code == 200:\n                print(f\"  🎉 v1 format works!\")\n                photo_urls.append(photo_url_v1)\n                continue\n            elif test_response.status_code == 403:\n                print(f\"  ❌ v1 403: Permission denied - check API key permissions\")\n            elif test_response.status_code == 404:\n                print(f\"  ❌ v1 404: Photo not found - URL format may be wrong\")\n        except Exception as e:\n            print(f\"  ❌ v1 Error: {e}\")\n        \n        # If we get here, v1 didn't work\n        print(\"  ℹ️ v1 format failed, photos may not be accessible via API\")\n    \n    return photo_urls\n\n# Run API diagnostics\ncheck_api_permissions()"
  },
  {
   "cell_type": "code",
   "execution_count": 20,
   "metadata": {},
   "outputs": [
    {
     "name": "stdout",
     "output_type": "stream",
     "text": [
      "🔍 Getting details for Urban Air Tyler...\n",
      "✅ Found place: Urban Air Trampoline and Adventure Park\n",
      "📍 Address: 8958 S Broadway Ave, Tyler, TX 75703, USA\n",
      "⭐ Rating: 4.5 (1108 reviews)\n",
      "📸 Found 10 photos\n",
      "\n",
      "📷 Photo references:\n",
      "  1. places/ChIJHSII4d3NSYYRl6568PJp5BM/photos/AciIO2e9BVRR3HM22hZQSVXALZTlegjp7JbjHJvE90Y25dg5Aw3FkPeovN0W6hIaZXvQc-XV2yLyeT6SN-8td1pi3aYwaTyRoRijkOvURypNTiaJLvHRpkZ-iGqeGrcH-z8y5NtI4jecofE13u-Tf4Vl7rsGWAhsXegvUTWVOKBSeLkOnUSL-Pia5UQYlKeDHs5Ji6Fc08rBa-8i1gZLxkGjZTP7tqdYoBxwHfLgvjGEH-KV8jNJlbQZcNI3A8HUH7rPUQ7Jvv9Q_HV9WLl7GORdqgLXMPHFjZC9Nzmh4rUVLz0bCcfO2JE9V16Lkjo1DKQjydws-99qaMZiyuCUgR5adALOIPOBExX5AjJTcWZBdwi1Db1m87Ts9UbnEvAUR0PTAnfQESeHKevNHFvs04JkR91nZRzc3z7jlD9ACtt4kgQFPJ-T\n",
      "  2. places/ChIJHSII4d3NSYYRl6568PJp5BM/photos/AciIO2fsxkOqy4MsdTe9CLxJoSpxtMQ0JwVhtcBRMs_P4gmU2HS9hZNvkvFcwtogaY11GYKRAYdE6rAKbTdTf0gVbE10ZQK--YoT2IvvgO8DJGb_LdZixoqwfry3-e3RWndUJPB18JGW1aUeeDQkVn0v2i606cqfnVyZL5qb7tbvZcbR7CB9SZ48DVy6kBl2xFlOiG1a4Ts9gcn7aa1QXZO44b2LcDkrAJDVbqDBCJiVUl0KHPiNH_uEOpj1xkw5F9Vpdt42rumTm1VvGAwjAqVjmOQljoW8BW7NZBh2m9GXnq8W-VsleUTqADbZSqILNlkkoYmOa1gfG5o_RNKwp-0SpvgYYBnk0ItBT4Kk9hjT-u6degWBUxFOWBpZCE-U3kTzL6vCVHs2zi6CnHplBiXBbUWG-qpfPbDRmMoTRBnQiAXoY9CO\n",
      "  3. places/ChIJHSII4d3NSYYRl6568PJp5BM/photos/AciIO2fC3XcFy55aOIoU8CmxYLtCwZQYChBrNXfoELe4vOsXNwWRarXILSjADlOhSDRIkLYaiojXg-H3vnVG-A5n-ThiLgHwBxV2GE9e4qrMhRY9WLsZrueNmyFmq07zJjmNY3eSqHOWJHP13_w-VFCRxKOgs9YjcJ7k3AuEymRG0HGFcRyHcFR-H6yTen7cWie76_ieecncKFbGVDTybQAUIqH9MAk5U97dTSp_ZOE7FhP9ogBahyLk7y_SFhlUpD_Zio1sYDUxtemQSFcWrQqpDs9mzy7Wl-PXuK2ufgIM797lY-M5vfWVTwP7HvknVblGqpX4nlJqqTzQKObbc1Y_MwY0xOctlWTl3Rq6tchK8_wXex7JWpbxWvHuYakvVzqvER9269faDQvYCoRGEBNRhVEQjJ5RnOw8CWjBLr4XLD1Ogsut\n",
      "  4. places/ChIJHSII4d3NSYYRl6568PJp5BM/photos/AciIO2fbWAVUIPJuTLXIHSJ2VNWaGhDPz4FbxS-I-CozNSdqnwJ3wMVIZLbjOZnYh4LefM6dovuLBtXZPoAASYolnf6TLKkIJNpn5LGP_oqnv_pQRGgg4YjD1jbV0M0xfSdb4yBGl-dF1G_2XGLtTLID0-kHfjEBMBY18m5K-_ql-MzkCp7G2eg3vB0Kd1aKvYLtfoM2RdsBlC4x_qPLZUDMVsg9y9tIAQJGtfPbt7qwxVxw_bGwoufMkBV9dNP1si5Z3AonGUvVFh1HhtUnmsun_U2JmG8hjFnAj5_HIZzK4HHK8yVLT3DLJBU3OwWYHM0zaM3cIOZBcAjAJBabREmtycjfX0nRiNUlsgE5x-DusiO30QBcK7nsyRVMjlPL4-cOyyY_d3WbMJ0kGVFN_V75t_JsQMbqpCYgAmnPtnuiaj-45A\n",
      "  5. places/ChIJHSII4d3NSYYRl6568PJp5BM/photos/AciIO2dX9URgqvSyk9QueKDpfenRza2Kq_2Usg84U8v8nldMi_BUDUpkJLpako5O8UuHsAc7EAiSMefxTVPJvN8Ai6PY_8NokeJzb_GgcsIA44yeFPVcG-W4oA8AnGVoKOSvWhWLN6YP_AbzTBZpwuBTNUvwdJlLmpKvJdAUgtUMSLb8MoMRr6vN_emEWX5jPw-5TVt_JDsvOIEWCBEo-nM1u9mb0WVEKQH_ms99oU8f6VDnWOz7gJFi4mPjvXuxI1gO0UjmdgNaqCOkgtdvDm4wnq88bf-0E8FRoIty1cBNZTT5wGtCEwtGvSMWHhPDVefLvXVJY4jxxhjEVMQInhByMOy1X23VOvMawV3RSOA1AvO5QCbnA8TvPivMuBNeCQUp3EhHdV2fXsSBrMjmOoE15bAxYklf5VTujMg77CQDuYY4bmI\n"
     ]
    }
   ],
   "source": [
    "# Get place details and photos\n",
    "print(f\"🔍 Getting details for {TARGET_PARK_NAME}...\")\n",
    "\n",
    "if not TARGET_PARK_ID:\n",
    "    # If no place ID provided, would need to search first\n",
    "    print(\"❌ Please provide a TARGET_PARK_ID\")\n",
    "else:\n",
    "    # Get detailed place information\n",
    "    place_details = get_place_details_with_photos(TARGET_PARK_ID)\n",
    "    \n",
    "    if place_details:\n",
    "        print(f\"✅ Found place: {place_details.get('displayName', {}).get('text', 'Unknown')}\")\n",
    "        print(f\"📍 Address: {place_details.get('formattedAddress', 'Unknown')}\")\n",
    "        print(f\"⭐ Rating: {place_details.get('rating', 'N/A')} ({place_details.get('userRatingCount', 0)} reviews)\")\n",
    "        \n",
    "        # Check photos\n",
    "        photos = place_details.get('photos', [])\n",
    "        print(f\"📸 Found {len(photos)} photos\")\n",
    "        \n",
    "        if photos:\n",
    "            print(\"\\n📷 Photo references:\")\n",
    "            for i, photo in enumerate(photos[:5]):  # Show first 5\n",
    "                print(f\"  {i+1}. {photo.get('name', 'No reference')}\")\n",
    "        \n",
    "    else:\n",
    "        print(\"❌ Could not get place details\")"
   ]
  },
  {
   "cell_type": "code",
   "execution_count": null,
   "metadata": {},
   "outputs": [],
   "source": "# Generate photo URLs with diagnostics\nif place_details and place_details.get('photos'):\n    print(\"🖼️ Running diagnostic photo URL generation...\")\n    \n    photo_urls = generate_photo_urls_diagnostic(place_details['photos'], max_photos=3)\n    \n    if photo_urls:\n        print(f\"\\n✅ Generated {len(photo_urls)} working photo URLs\")\n        print(\"\\n🔗 Working Photo URLs:\")\n        for i, url in enumerate(photo_urls, 1):\n            print(f\"  {i}. {url}\")\n    else:\n        print(\"\\n❌ No working photo URLs found\")\n        \n        # Suggest alternative approaches\n        print(\"\\n💡 Alternative approaches:\")\n        print(\"1. Check Google Cloud Console API restrictions\")\n        print(\"2. Enable Photos API if available\")\n        print(\"3. Use stock photos as placeholders\")\n        print(\"4. Extract photos from park websites\")\n        \nelse:\n    print(\"❌ No photos found for this place\")"
  },
  {
   "cell_type": "code",
   "execution_count": null,
   "metadata": {},
   "outputs": [],
   "source": [
    "# Create the updated park data with photos\n",
    "if photo_urls:\n",
    "    print(\"📝 Creating updated park data...\")\n",
    "    \n",
    "    # Basic park info from the API response\n",
    "    updated_park_data = {\n",
    "        \"id\": TARGET_PARK_ID,\n",
    "        \"name\": place_details.get('displayName', {}).get('text', TARGET_PARK_NAME),\n",
    "        \"address\": place_details.get('formattedAddress', ''),\n",
    "        \"phone\": place_details.get('nationalPhoneNumber', ''),\n",
    "        \"website\": place_details.get('websiteUri', ''),\n",
    "        \"rating\": place_details.get('rating'),\n",
    "        \"reviewCount\": place_details.get('userRatingCount'),\n",
    "        \"location\": place_details.get('location', {}),\n",
    "        \"photos\": photo_urls,\n",
    "        \"photoCount\": len(photo_urls)\n",
    "    }\n",
    "    \n",
    "    print(\"✅ Updated park data:\")\n",
    "    print(json.dumps(updated_park_data, indent=2))\n",
    "    \n",
    "    # Save to file for easy copying\n",
    "    with open('urban_air_tyler_photos.json', 'w') as f:\n",
    "        json.dump(updated_park_data, f, indent=2)\n",
    "    \n",
    "    print(\"\\n💾 Saved to urban_air_tyler_photos.json\")\n",
    "    \n",
    "else:\n",
    "    print(\"❌ No photo URLs to save\")"
   ]
  },
  {
   "cell_type": "code",
   "execution_count": null,
   "metadata": {},
   "outputs": [],
   "source": [
    "# Display the photo URLs in a format ready to copy into texas-parks.ts\n",
    "if photo_urls:\n",
    "    print(\"📋 Copy this for the 'images' field in texas-parks.ts:\")\n",
    "    print(\"\\n```typescript\")\n",
    "    print('\"images\": [')\n",
    "    for i, url in enumerate(photo_urls):\n",
    "        comma = ',' if i < len(photo_urls) - 1 else ''\n",
    "        print(f'  \"{url}\"{comma}')\n",
    "    print('],')\n",
    "    print(\"```\")\n",
    "    \n",
    "    print(f\"\\n📊 Summary:\")\n",
    "    print(f\"  Park: {updated_park_data['name']}\")\n",
    "    print(f\"  Photos: {len(photo_urls)}\")\n",
    "    print(f\"  Rating: {updated_park_data['rating']} stars\")\n",
    "    print(f\"  Reviews: {updated_park_data['reviewCount']}\")\n",
    "    \n",
    "    print(\"\\n🚀 Next steps:\")\n",
    "    print(\"1. Copy the images array above\")\n",
    "    print(\"2. Paste it into the Urban Air Tyler entry in texas-parks.ts\")\n",
    "    print(\"3. Test the photo gallery on the park page\")\n",
    "    print(\"4. If it looks good, we can scale this to other parks!\")\n",
    "    \n",
    "else:\n",
    "    print(\"❌ No photos collected\")"
   ]
  }
 ],
 "metadata": {
  "kernelspec": {
   "display_name": "Python 3 (ipykernel)",
   "language": "python",
   "name": "python3"
  },
  "language_info": {
   "codemirror_mode": {
    "name": "ipython",
    "version": 3
   },
   "file_extension": ".py",
   "mimetype": "text/x-python",
   "name": "python",
   "nbconvert_exporter": "python",
   "pygments_lexer": "ipython3",
   "version": "3.9.7"
  }
 },
 "nbformat": 4,
 "nbformat_minor": 4
}